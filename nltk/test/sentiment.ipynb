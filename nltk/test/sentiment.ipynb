{
 "cells": [
  {
   "cell_type": "code",
   "execution_count": 1,
   "metadata": {
    "collapsed": false
   },
   "outputs": [
    {
     "name": "stdout",
     "output_type": "stream",
     "text": [
      "IPython will make a temporary file named: /var/folders/ph/kjvyk6lw8xj5dc0059b22tr80000gn/T/ipython_edit_homi0r4u/ipython_edit_yj5p5w9f.py\n"
     ]
    }
   ],
   "source": [
    "%edit"
   ]
  },
  {
   "cell_type": "code",
   "execution_count": 2,
   "metadata": {
    "collapsed": false
   },
   "outputs": [
    {
     "data": {
      "text/plain": [
       "{'Apple_PubSub_Socket_Render': '/private/tmp/com.apple.launchd.X3UI5cWZcx/Render',\n",
       " 'BIBINPUTS': '.:/Users/ewan/sync/bib::',\n",
       " 'CLICOLOR': '1',\n",
       " 'COLUMNS': '153',\n",
       " 'COMMAND_MODE': 'unix2003',\n",
       " 'CPPFLAGS': '-no-cpp-precomp',\n",
       " 'CVS_RSH': 'ssh',\n",
       " 'DESTINATION': '/var/folders/ph/kjvyk6lw8xj5dc0059b22tr80000gn/T/iTerm 2.0.0.20150412 Update',\n",
       " 'DISPLAY': ':0.0',\n",
       " 'DOCBOOKDTD': '/opt/local/share/xml/docbook/4.4/docbookx.dtd',\n",
       " 'GIT_PAGER': 'cat',\n",
       " 'GNUTERM': 'aqua',\n",
       " 'GNUTERMAPP': '/Applications/AquaTerm.app',\n",
       " 'GPG_AGENT_INFO': '/Users/ewan/.gnupg/S.gpg-agent:447:1',\n",
       " 'HOME': '/Users/ewan',\n",
       " 'INFANDANGO_CONFIGFILE': '/Users/ewan/hg/inf1op-docs/src/labs/config/infandango_conf.py',\n",
       " 'INFANDANGO_ROOT': '/Users/ewan/hg/infandango',\n",
       " 'INFOPATH': '/opt/local/share/info',\n",
       " 'ITERM_PROFILE': 'git',\n",
       " 'ITERM_SESSION_ID': 'w0t3p0',\n",
       " 'JAVACMD': '/Library/Java/Home//bin/java',\n",
       " 'JAVA_HOME': '/Library/Java/Home/',\n",
       " 'JENAROOT': '/Library/Java/Jena-2.6.2',\n",
       " 'JPY_PARENT_PID': '1873',\n",
       " 'LANG': 'en_GB.UTF-8',\n",
       " 'LDFLAGS': '-flat_namespace',\n",
       " 'LOGNAME': 'ewan',\n",
       " 'MANPATH': '/usr/share/man:/usr/X11R6/man:/opt/man:/opt/local/man:/usr/local/man:/usr/local/share/man:/Users/ewan/usr/local/man://Users/ewan/man',\n",
       " 'NLTK_LITE_CORPORA': '/usr/share/nltk_lite/corpora',\n",
       " 'OLDPWD': '/Users/ewan/git/v-nltk-sentiment/nltk',\n",
       " 'PAGER': 'cat',\n",
       " 'PATH': '/Users/ewan/git/v-nltk-sentiment/bin:/usr/texbin:/opt/local/bin:/opt/local/sbin:/usr/bin:/bin:/usr/sbin:/sbin:/Users/ewan/bin:/usr/local/sbin:/usr/local/bin:/usr/local/WordNet-3.0/bin:/usr/X11R6/bin:/Developer/Tools:/Library/Java/Jena-2.6.2/bin:/opt/local/Library/Frameworks/Python.framework/Versions/2.7/bin:/opt/local/Library/Frameworks/Python.framework/Versions/2.6/bin:/Applications/acquia-drupal/mysql/bin:/Users/ewan/hg/infandango:',\n",
       " 'PS1': '(v-nltk-sentiment) \\\\[\\\\a\\\\e]2;${PWD}\\\\a\\\\]\\\\\\n[\\\\W]\\\\n \\\\#% ',\n",
       " 'PWD': '/Users/ewan/git/v-nltk-sentiment/nltk/nltk/test',\n",
       " 'RSYNC_RSH': 'ssh',\n",
       " 'SECURITYSESSIONID': '186a7',\n",
       " 'SHELL': '/bin/bash',\n",
       " 'SHLVL': '1',\n",
       " 'SSH_AUTH_SOCK': '/private/tmp/com.apple.launchd.FzHVJGVYk9/Listeners',\n",
       " 'TERM': 'xterm-color',\n",
       " 'TERM_PROGRAM': 'iTerm.app',\n",
       " 'TMPDIR': '/var/folders/ph/kjvyk6lw8xj5dc0059b22tr80000gn/T/',\n",
       " 'USER': 'ewan',\n",
       " 'VIRTUAL_ENV': '/Users/ewan/git/v-nltk-sentiment',\n",
       " 'WNHOME': '/usr/local/WordNet-3.0',\n",
       " 'XPC_FLAGS': '0x0',\n",
       " 'XPC_SERVICE_NAME': '0',\n",
       " '_': '/Users/ewan/git/v-nltk-sentiment/bin/ipython',\n",
       " '__CF_USER_TEXT_ENCODING': '0x1F5:0x0:0x0',\n",
       " '__PYVENV_LAUNCHER__': '/Users/ewan/git/v-nltk-sentiment/bin/python3.4'}"
      ]
     },
     "execution_count": 2,
     "metadata": {},
     "output_type": "execute_result"
    }
   ],
   "source": [
    "%env"
   ]
  },
  {
   "cell_type": "code",
   "execution_count": 3,
   "metadata": {
    "collapsed": true
   },
   "outputs": [],
   "source": [
    "from nltk.sentiment import SentimentIntensityAnalyzer"
   ]
  },
  {
   "cell_type": "code",
   "execution_count": 5,
   "metadata": {
    "collapsed": true
   },
   "outputs": [],
   "source": [
    "from nltk.corpus import tweets"
   ]
  },
  {
   "cell_type": "code",
   "execution_count": null,
   "metadata": {
    "collapsed": true
   },
   "outputs": [],
   "source": []
  }
 ],
 "metadata": {
  "kernelspec": {
   "display_name": "Python 3",
   "language": "python",
   "name": "python3"
  },
  "language_info": {
   "codemirror_mode": {
    "name": "ipython",
    "version": 3
   },
   "file_extension": ".py",
   "mimetype": "text/x-python",
   "name": "python",
   "nbconvert_exporter": "python",
   "pygments_lexer": "ipython3",
   "version": "3.4.3"
  }
 },
 "nbformat": 4,
 "nbformat_minor": 0
}
